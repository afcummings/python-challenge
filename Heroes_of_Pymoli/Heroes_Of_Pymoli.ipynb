{
 "cells": [
  {
   "cell_type": "markdown",
   "metadata": {},
   "source": [
    "### Note\n",
    "* Instructions have been included for each segment. You do not have to follow them exactly, but they are included to help you think through the steps."
   ]
  },
  {
   "cell_type": "code",
   "execution_count": 2,
   "metadata": {},
   "outputs": [
    {
     "data": {
      "text/html": [
       "<div>\n",
       "<style scoped>\n",
       "    .dataframe tbody tr th:only-of-type {\n",
       "        vertical-align: middle;\n",
       "    }\n",
       "\n",
       "    .dataframe tbody tr th {\n",
       "        vertical-align: top;\n",
       "    }\n",
       "\n",
       "    .dataframe thead th {\n",
       "        text-align: right;\n",
       "    }\n",
       "</style>\n",
       "<table border=\"1\" class=\"dataframe\">\n",
       "  <thead>\n",
       "    <tr style=\"text-align: right;\">\n",
       "      <th></th>\n",
       "      <th>Purchase ID</th>\n",
       "      <th>SN</th>\n",
       "      <th>Age</th>\n",
       "      <th>Gender</th>\n",
       "      <th>Item ID</th>\n",
       "      <th>Item Name</th>\n",
       "      <th>Price</th>\n",
       "    </tr>\n",
       "  </thead>\n",
       "  <tbody>\n",
       "    <tr>\n",
       "      <th>0</th>\n",
       "      <td>0</td>\n",
       "      <td>Lisim78</td>\n",
       "      <td>20</td>\n",
       "      <td>Male</td>\n",
       "      <td>108</td>\n",
       "      <td>Extraction, Quickblade Of Trembling Hands</td>\n",
       "      <td>3.53</td>\n",
       "    </tr>\n",
       "    <tr>\n",
       "      <th>1</th>\n",
       "      <td>1</td>\n",
       "      <td>Lisovynya38</td>\n",
       "      <td>40</td>\n",
       "      <td>Male</td>\n",
       "      <td>143</td>\n",
       "      <td>Frenzied Scimitar</td>\n",
       "      <td>1.56</td>\n",
       "    </tr>\n",
       "    <tr>\n",
       "      <th>2</th>\n",
       "      <td>2</td>\n",
       "      <td>Ithergue48</td>\n",
       "      <td>24</td>\n",
       "      <td>Male</td>\n",
       "      <td>92</td>\n",
       "      <td>Final Critic</td>\n",
       "      <td>4.88</td>\n",
       "    </tr>\n",
       "    <tr>\n",
       "      <th>3</th>\n",
       "      <td>3</td>\n",
       "      <td>Chamassasya86</td>\n",
       "      <td>24</td>\n",
       "      <td>Male</td>\n",
       "      <td>100</td>\n",
       "      <td>Blindscythe</td>\n",
       "      <td>3.27</td>\n",
       "    </tr>\n",
       "    <tr>\n",
       "      <th>4</th>\n",
       "      <td>4</td>\n",
       "      <td>Iskosia90</td>\n",
       "      <td>23</td>\n",
       "      <td>Male</td>\n",
       "      <td>131</td>\n",
       "      <td>Fury</td>\n",
       "      <td>1.44</td>\n",
       "    </tr>\n",
       "  </tbody>\n",
       "</table>\n",
       "</div>"
      ],
      "text/plain": [
       "   Purchase ID             SN  Age Gender  Item ID  \\\n",
       "0            0        Lisim78   20   Male      108   \n",
       "1            1    Lisovynya38   40   Male      143   \n",
       "2            2     Ithergue48   24   Male       92   \n",
       "3            3  Chamassasya86   24   Male      100   \n",
       "4            4      Iskosia90   23   Male      131   \n",
       "\n",
       "                                   Item Name  Price  \n",
       "0  Extraction, Quickblade Of Trembling Hands   3.53  \n",
       "1                          Frenzied Scimitar   1.56  \n",
       "2                               Final Critic   4.88  \n",
       "3                                Blindscythe   3.27  \n",
       "4                                       Fury   1.44  "
      ]
     },
     "execution_count": 2,
     "metadata": {},
     "output_type": "execute_result"
    }
   ],
   "source": [
    "import pandas as pd\n",
    "\n",
    "file = \"Resources/purchase_data.csv\"\n",
    "\n",
    "data = pd.read_csv(file, index_col=False)\n",
    "data.head(5)"
   ]
  },
  {
   "cell_type": "markdown",
   "metadata": {},
   "source": [
    "## Player Count"
   ]
  },
  {
   "cell_type": "markdown",
   "metadata": {},
   "source": [
    "* Display the total number of players\n"
   ]
  },
  {
   "cell_type": "code",
   "execution_count": 5,
   "metadata": {},
   "outputs": [
    {
     "data": {
      "text/html": [
       "<div>\n",
       "<style scoped>\n",
       "    .dataframe tbody tr th:only-of-type {\n",
       "        vertical-align: middle;\n",
       "    }\n",
       "\n",
       "    .dataframe tbody tr th {\n",
       "        vertical-align: top;\n",
       "    }\n",
       "\n",
       "    .dataframe thead th {\n",
       "        text-align: right;\n",
       "    }\n",
       "</style>\n",
       "<table border=\"1\" class=\"dataframe\">\n",
       "  <thead>\n",
       "    <tr style=\"text-align: right;\">\n",
       "      <th></th>\n",
       "    </tr>\n",
       "    <tr>\n",
       "      <th>Total Players</th>\n",
       "    </tr>\n",
       "  </thead>\n",
       "  <tbody>\n",
       "    <tr>\n",
       "      <th>576</th>\n",
       "    </tr>\n",
       "  </tbody>\n",
       "</table>\n",
       "</div>"
      ],
      "text/plain": [
       "Empty DataFrame\n",
       "Columns: []\n",
       "Index: [576]"
      ]
     },
     "execution_count": 5,
     "metadata": {},
     "output_type": "execute_result"
    }
   ],
   "source": [
    "num_players = len(data[\"SN\"].value_counts())\n",
    "\n",
    "players = pd.DataFrame({\"Total Players\":[num_players]})\n",
    "players.set_index('Total Players', inplace=True)\n",
    "players"
   ]
  },
  {
   "cell_type": "markdown",
   "metadata": {},
   "source": [
    "## Purchasing Analysis (Total)"
   ]
  },
  {
   "cell_type": "markdown",
   "metadata": {},
   "source": [
    "* Run basic calculations to obtain number of unique items, average price, etc.\n",
    "\n",
    "\n",
    "* Create a summary data frame to hold the results\n",
    "\n",
    "\n",
    "* Optional: give the displayed data cleaner formatting\n",
    "\n",
    "\n",
    "* Display the summary data frame\n"
   ]
  },
  {
   "cell_type": "code",
   "execution_count": 41,
   "metadata": {
    "scrolled": true
   },
   "outputs": [
    {
     "data": {
      "text/html": [
       "<div>\n",
       "<style scoped>\n",
       "    .dataframe tbody tr th:only-of-type {\n",
       "        vertical-align: middle;\n",
       "    }\n",
       "\n",
       "    .dataframe tbody tr th {\n",
       "        vertical-align: top;\n",
       "    }\n",
       "\n",
       "    .dataframe thead th {\n",
       "        text-align: right;\n",
       "    }\n",
       "</style>\n",
       "<table border=\"1\" class=\"dataframe\">\n",
       "  <thead>\n",
       "    <tr style=\"text-align: right;\">\n",
       "      <th></th>\n",
       "      <th>Number of Purchases</th>\n",
       "      <th>Avg Price of Purchases</th>\n",
       "      <th>Total Revenue</th>\n",
       "    </tr>\n",
       "    <tr>\n",
       "      <th>Number of Unique Items</th>\n",
       "      <th></th>\n",
       "      <th></th>\n",
       "      <th></th>\n",
       "    </tr>\n",
       "  </thead>\n",
       "  <tbody>\n",
       "    <tr>\n",
       "      <th>183</th>\n",
       "      <td>780</td>\n",
       "      <td>3.050987</td>\n",
       "      <td>2379.77</td>\n",
       "    </tr>\n",
       "  </tbody>\n",
       "</table>\n",
       "</div>"
      ],
      "text/plain": [
       "                        Number of Purchases  Avg Price of Purchases  \\\n",
       "Number of Unique Items                                                \n",
       "183                                     780                3.050987   \n",
       "\n",
       "                        Total Revenue  \n",
       "Number of Unique Items                 \n",
       "183                           2379.77  "
      ]
     },
     "execution_count": 41,
     "metadata": {},
     "output_type": "execute_result"
    }
   ],
   "source": [
    "unique_items = len((data[\"Item ID\"]).unique())\n",
    "\n",
    "revenue = (data[\"Price\"]).sum()\n",
    "\n",
    "purchases = (data[\"Purchase ID\"]).count()\n",
    "\n",
    "avg_price = (data[\"Price\"]).mean()\n",
    "\n",
    "new_df = pd.DataFrame({\n",
    "                            \"Number of Unique Items\":[unique_items],\n",
    "                            \"Number of Purchases\": [purchases],\n",
    "                            \"Avg Price of Purchases\":[avg_price], \n",
    "                            \"Total Revenue\": [revenue]})\n",
    "\n",
    "new_df.style.format({\n",
    "                     'Total Revenue': '${:,.2f}',\n",
    "                     'Average Price':\"${:,.2f}\"})\n",
    "\n",
    "new_df.set_index('Number of Unique Items', inplace=True)\n",
    "\n",
    "new_df"
   ]
  },
  {
   "cell_type": "markdown",
   "metadata": {},
   "source": [
    "## Gender Demographics"
   ]
  },
  {
   "cell_type": "markdown",
   "metadata": {},
   "source": [
    "* Percentage and Count of Male Players\n",
    "\n",
    "\n",
    "* Percentage and Count of Female Players\n",
    "\n",
    "\n",
    "* Percentage and Count of Other / Non-Disclosed\n",
    "\n",
    "\n"
   ]
  },
  {
   "cell_type": "code",
   "execution_count": 42,
   "metadata": {},
   "outputs": [
    {
     "data": {
      "text/html": [
       "<style  type=\"text/css\" >\n",
       "</style><table id=\"T_393d1648_09b7_11ea_9f6f_e4e74937379e\" ><thead>    <tr>        <th class=\"blank level0\" ></th>        <th class=\"col_heading level0 col0\" >Percentage of Players</th>        <th class=\"col_heading level0 col1\" >Total</th>    </tr></thead><tbody>\n",
       "                <tr>\n",
       "                        <th id=\"T_393d1648_09b7_11ea_9f6f_e4e74937379elevel0_row0\" class=\"row_heading level0 row0\" >Male</th>\n",
       "                        <td id=\"T_393d1648_09b7_11ea_9f6f_e4e74937379erow0_col0\" class=\"data row0 col0\" >84.03</td>\n",
       "                        <td id=\"T_393d1648_09b7_11ea_9f6f_e4e74937379erow0_col1\" class=\"data row0 col1\" >484</td>\n",
       "            </tr>\n",
       "            <tr>\n",
       "                        <th id=\"T_393d1648_09b7_11ea_9f6f_e4e74937379elevel0_row1\" class=\"row_heading level0 row1\" >Female</th>\n",
       "                        <td id=\"T_393d1648_09b7_11ea_9f6f_e4e74937379erow1_col0\" class=\"data row1 col0\" >14.06</td>\n",
       "                        <td id=\"T_393d1648_09b7_11ea_9f6f_e4e74937379erow1_col1\" class=\"data row1 col1\" >81</td>\n",
       "            </tr>\n",
       "            <tr>\n",
       "                        <th id=\"T_393d1648_09b7_11ea_9f6f_e4e74937379elevel0_row2\" class=\"row_heading level0 row2\" >Other / Non-Disclosed</th>\n",
       "                        <td id=\"T_393d1648_09b7_11ea_9f6f_e4e74937379erow2_col0\" class=\"data row2 col0\" >1.91</td>\n",
       "                        <td id=\"T_393d1648_09b7_11ea_9f6f_e4e74937379erow2_col1\" class=\"data row2 col1\" >11</td>\n",
       "            </tr>\n",
       "    </tbody></table>"
      ],
      "text/plain": [
       "<pandas.io.formats.style.Styler at 0x187e6e617b8>"
      ]
     },
     "execution_count": 42,
     "metadata": {},
     "output_type": "execute_result"
    }
   ],
   "source": [
    "gender_info = data.groupby(\"Gender\")\n",
    "\n",
    "gender_count = gender_info.nunique()[\"SN\"]\n",
    "\n",
    "pct_of_players = gender_count / num_players * 100\n",
    "\n",
    "gender_df = pd.DataFrame({\n",
    "                                \"Percentage of Players\": pct_of_players, \n",
    "                                \"Total\": gender_count})\n",
    "\n",
    "gender_df.index.name = None\n",
    "\n",
    "gender_df.sort_values([\"Total\"], ascending = False).style.format({\n",
    "                                                                    \"Percentage of Players\":\"{:.2f}\"})\n"
   ]
  },
  {
   "cell_type": "markdown",
   "metadata": {},
   "source": [
    "\n",
    "## Purchasing Analysis (Gender)"
   ]
  },
  {
   "cell_type": "markdown",
   "metadata": {},
   "source": [
    "* Run basic calculations to obtain purchase count, avg. purchase price, avg. purchase total per person etc. by gender\n",
    "\n",
    "\n",
    "\n",
    "\n",
    "* Create a summary data frame to hold the results\n",
    "\n",
    "\n",
    "* Optional: give the displayed data cleaner formatting\n",
    "\n",
    "\n",
    "* Display the summary data frame"
   ]
  },
  {
   "cell_type": "code",
   "execution_count": 17,
   "metadata": {},
   "outputs": [
    {
     "data": {
      "text/html": [
       "<style  type=\"text/css\" >\n",
       "</style><table id=\"T_80ee9ad2_09b3_11ea_a0d2_e4e74937379e\" ><thead>    <tr>        <th class=\"blank level0\" ></th>        <th class=\"col_heading level0 col0\" >Purchase Count</th>        <th class=\"col_heading level0 col1\" >Avg Purchase Value</th>        <th class=\"col_heading level0 col2\" >Avg Purchase Price</th>        <th class=\"col_heading level0 col3\" >Avg Purchase Total per Person</th>    </tr>    <tr>        <th class=\"index_name level0\" >Gender</th>        <th class=\"blank\" ></th>        <th class=\"blank\" ></th>        <th class=\"blank\" ></th>        <th class=\"blank\" ></th>    </tr></thead><tbody>\n",
       "                <tr>\n",
       "                        <th id=\"T_80ee9ad2_09b3_11ea_a0d2_e4e74937379elevel0_row0\" class=\"row_heading level0 row0\" >Female</th>\n",
       "                        <td id=\"T_80ee9ad2_09b3_11ea_a0d2_e4e74937379erow0_col0\" class=\"data row0 col0\" >113</td>\n",
       "                        <td id=\"T_80ee9ad2_09b3_11ea_a0d2_e4e74937379erow0_col1\" class=\"data row0 col1\" >$361.94</td>\n",
       "                        <td id=\"T_80ee9ad2_09b3_11ea_a0d2_e4e74937379erow0_col2\" class=\"data row0 col2\" >$3.20</td>\n",
       "                        <td id=\"T_80ee9ad2_09b3_11ea_a0d2_e4e74937379erow0_col3\" class=\"data row0 col3\" >$4.47</td>\n",
       "            </tr>\n",
       "            <tr>\n",
       "                        <th id=\"T_80ee9ad2_09b3_11ea_a0d2_e4e74937379elevel0_row1\" class=\"row_heading level0 row1\" >Male</th>\n",
       "                        <td id=\"T_80ee9ad2_09b3_11ea_a0d2_e4e74937379erow1_col0\" class=\"data row1 col0\" >652</td>\n",
       "                        <td id=\"T_80ee9ad2_09b3_11ea_a0d2_e4e74937379erow1_col1\" class=\"data row1 col1\" >$1,967.64</td>\n",
       "                        <td id=\"T_80ee9ad2_09b3_11ea_a0d2_e4e74937379erow1_col2\" class=\"data row1 col2\" >$3.02</td>\n",
       "                        <td id=\"T_80ee9ad2_09b3_11ea_a0d2_e4e74937379erow1_col3\" class=\"data row1 col3\" >$4.07</td>\n",
       "            </tr>\n",
       "            <tr>\n",
       "                        <th id=\"T_80ee9ad2_09b3_11ea_a0d2_e4e74937379elevel0_row2\" class=\"row_heading level0 row2\" >Other / Non-Disclosed</th>\n",
       "                        <td id=\"T_80ee9ad2_09b3_11ea_a0d2_e4e74937379erow2_col0\" class=\"data row2 col0\" >15</td>\n",
       "                        <td id=\"T_80ee9ad2_09b3_11ea_a0d2_e4e74937379erow2_col1\" class=\"data row2 col1\" >$50.19</td>\n",
       "                        <td id=\"T_80ee9ad2_09b3_11ea_a0d2_e4e74937379erow2_col2\" class=\"data row2 col2\" >$3.35</td>\n",
       "                        <td id=\"T_80ee9ad2_09b3_11ea_a0d2_e4e74937379erow2_col3\" class=\"data row2 col3\" >$4.56</td>\n",
       "            </tr>\n",
       "    </tbody></table>"
      ],
      "text/plain": [
       "<pandas.io.formats.style.Styler at 0x187e6e0e2b0>"
      ]
     },
     "execution_count": 17,
     "metadata": {},
     "output_type": "execute_result"
    }
   ],
   "source": [
    "num_purchases = gender_info[\"Purchase ID\"].count()\n",
    "\n",
    "avg_total = gender_info[\"Price\"].sum()\n",
    "\n",
    "avg_price_gender = gender_info[\"Price\"].mean()\n",
    "\n",
    "avg_ppp = avg_total/gender_count\n",
    "\n",
    "new_df = pd.DataFrame({\n",
    "                        \"Purchase Count\": num_purchases, \n",
    "                        \"Avg Purchase Value\":avg_total,\n",
    "                        \"Avg Purchase Price\": avg_price_gender,\n",
    "                        \"Avg Purchase Total per Person\": avg_ppp})\n",
    "\n",
    "new_df.index.name = \"Gender\"\n",
    "\n",
    "new_df.style.format({\n",
    "                            \"Avg Purchase Value\":\"${:,.2f}\",\n",
    "                            \"Avg Purchase Price\":\"${:,.2f}\",\n",
    "                            \"Avg Purchase Total per Person\":\"${:,.2f}\"})"
   ]
  },
  {
   "cell_type": "markdown",
   "metadata": {},
   "source": [
    "## Age Demographics"
   ]
  },
  {
   "cell_type": "markdown",
   "metadata": {},
   "source": [
    "* Establish bins for ages\n",
    "\n",
    "\n",
    "* Categorize the existing players using the age bins. Hint: use pd.cut()\n",
    "\n",
    "\n",
    "* Calculate the numbers and percentages by age group\n",
    "\n",
    "\n",
    "* Create a summary data frame to hold the results\n",
    "\n",
    "\n",
    "* Optional: round the percentage column to two decimal points\n",
    "\n",
    "\n",
    "* Display Age Demographics Table\n"
   ]
  },
  {
   "cell_type": "code",
   "execution_count": 19,
   "metadata": {},
   "outputs": [
    {
     "data": {
      "text/html": [
       "<style  type=\"text/css\" >\n",
       "</style><table id=\"T_ff248318_09b3_11ea_b350_e4e74937379e\" ><thead>    <tr>        <th class=\"blank level0\" ></th>        <th class=\"col_heading level0 col0\" >Percentage of Players</th>        <th class=\"col_heading level0 col1\" >Total</th>    </tr></thead><tbody>\n",
       "                <tr>\n",
       "                        <th id=\"T_ff248318_09b3_11ea_b350_e4e74937379elevel0_row0\" class=\"row_heading level0 row0\" ><10</th>\n",
       "                        <td id=\"T_ff248318_09b3_11ea_b350_e4e74937379erow0_col0\" class=\"data row0 col0\" >2.95</td>\n",
       "                        <td id=\"T_ff248318_09b3_11ea_b350_e4e74937379erow0_col1\" class=\"data row0 col1\" >17</td>\n",
       "            </tr>\n",
       "            <tr>\n",
       "                        <th id=\"T_ff248318_09b3_11ea_b350_e4e74937379elevel0_row1\" class=\"row_heading level0 row1\" >10-14</th>\n",
       "                        <td id=\"T_ff248318_09b3_11ea_b350_e4e74937379erow1_col0\" class=\"data row1 col0\" >3.82</td>\n",
       "                        <td id=\"T_ff248318_09b3_11ea_b350_e4e74937379erow1_col1\" class=\"data row1 col1\" >22</td>\n",
       "            </tr>\n",
       "            <tr>\n",
       "                        <th id=\"T_ff248318_09b3_11ea_b350_e4e74937379elevel0_row2\" class=\"row_heading level0 row2\" >15-19</th>\n",
       "                        <td id=\"T_ff248318_09b3_11ea_b350_e4e74937379erow2_col0\" class=\"data row2 col0\" >18.58</td>\n",
       "                        <td id=\"T_ff248318_09b3_11ea_b350_e4e74937379erow2_col1\" class=\"data row2 col1\" >107</td>\n",
       "            </tr>\n",
       "            <tr>\n",
       "                        <th id=\"T_ff248318_09b3_11ea_b350_e4e74937379elevel0_row3\" class=\"row_heading level0 row3\" >20-24</th>\n",
       "                        <td id=\"T_ff248318_09b3_11ea_b350_e4e74937379erow3_col0\" class=\"data row3 col0\" >44.79</td>\n",
       "                        <td id=\"T_ff248318_09b3_11ea_b350_e4e74937379erow3_col1\" class=\"data row3 col1\" >258</td>\n",
       "            </tr>\n",
       "            <tr>\n",
       "                        <th id=\"T_ff248318_09b3_11ea_b350_e4e74937379elevel0_row4\" class=\"row_heading level0 row4\" >25-29</th>\n",
       "                        <td id=\"T_ff248318_09b3_11ea_b350_e4e74937379erow4_col0\" class=\"data row4 col0\" >13.37</td>\n",
       "                        <td id=\"T_ff248318_09b3_11ea_b350_e4e74937379erow4_col1\" class=\"data row4 col1\" >77</td>\n",
       "            </tr>\n",
       "            <tr>\n",
       "                        <th id=\"T_ff248318_09b3_11ea_b350_e4e74937379elevel0_row5\" class=\"row_heading level0 row5\" >30-34</th>\n",
       "                        <td id=\"T_ff248318_09b3_11ea_b350_e4e74937379erow5_col0\" class=\"data row5 col0\" >9.03</td>\n",
       "                        <td id=\"T_ff248318_09b3_11ea_b350_e4e74937379erow5_col1\" class=\"data row5 col1\" >52</td>\n",
       "            </tr>\n",
       "            <tr>\n",
       "                        <th id=\"T_ff248318_09b3_11ea_b350_e4e74937379elevel0_row6\" class=\"row_heading level0 row6\" >35+</th>\n",
       "                        <td id=\"T_ff248318_09b3_11ea_b350_e4e74937379erow6_col0\" class=\"data row6 col0\" >7.47</td>\n",
       "                        <td id=\"T_ff248318_09b3_11ea_b350_e4e74937379erow6_col1\" class=\"data row6 col1\" >43</td>\n",
       "            </tr>\n",
       "    </tbody></table>"
      ],
      "text/plain": [
       "<pandas.io.formats.style.Styler at 0x187dfd28ba8>"
      ]
     },
     "execution_count": 19,
     "metadata": {},
     "output_type": "execute_result"
    }
   ],
   "source": [
    "ages = [0, 9.90, 14.90, 19.90, 24.90, 29.90, 34.90, 99999]\n",
    "age_groups = [\"<10\", \"10-14\", \"15-19\", \"20-24\", \"25-29\", \"30-34\", \"35+\"]\n",
    "\n",
    "data[\"Age Group\"] = pd.cut(data[\"Age\"],ages, labels = age_groups)\n",
    "\n",
    "age_df = data.groupby(\"Age Group\")\n",
    "\n",
    "all_ages = age_df[\"SN\"].nunique()\n",
    "\n",
    "age_pct = (all_ages/num_players) * 100\n",
    "\n",
    "info_ages = pd.DataFrame({\"Percentage of Players\": age_pct, \"Total\": all_ages})\n",
    "\n",
    "info_ages.index.name = None\n",
    "\n",
    "info_ages.style.format({\"Percentage of Players\":\"{:,.2f}\"})"
   ]
  },
  {
   "cell_type": "markdown",
   "metadata": {},
   "source": [
    "## Purchasing Analysis (Age)"
   ]
  },
  {
   "cell_type": "markdown",
   "metadata": {},
   "source": [
    "* Bin the purchase_data data frame by age\n",
    "\n",
    "\n",
    "* Run basic calculations to obtain purchase count, avg. purchase price, avg. purchase total per person etc. in the table below\n",
    "\n",
    "\n",
    "* Create a summary data frame to hold the results\n",
    "\n",
    "\n",
    "* Optional: give the displayed data cleaner formatting\n",
    "\n",
    "\n",
    "* Display the summary data frame"
   ]
  },
  {
   "cell_type": "code",
   "execution_count": 43,
   "metadata": {},
   "outputs": [
    {
     "data": {
      "text/html": [
       "<style  type=\"text/css\" >\n",
       "</style><table id=\"T_78a49c46_09b7_11ea_b8e2_e4e74937379e\" ><thead>    <tr>        <th class=\"blank level0\" ></th>        <th class=\"col_heading level0 col0\" >Purchases</th>        <th class=\"col_heading level0 col1\" >Total Purchase Value</th>        <th class=\"col_heading level0 col2\" >Avg Purchase Price</th>        <th class=\"col_heading level0 col3\" >Avg Purchase Total per Person</th>    </tr></thead><tbody>\n",
       "                <tr>\n",
       "                        <th id=\"T_78a49c46_09b7_11ea_b8e2_e4e74937379elevel0_row0\" class=\"row_heading level0 row0\" ><10</th>\n",
       "                        <td id=\"T_78a49c46_09b7_11ea_b8e2_e4e74937379erow0_col0\" class=\"data row0 col0\" >23</td>\n",
       "                        <td id=\"T_78a49c46_09b7_11ea_b8e2_e4e74937379erow0_col1\" class=\"data row0 col1\" >$77.13</td>\n",
       "                        <td id=\"T_78a49c46_09b7_11ea_b8e2_e4e74937379erow0_col2\" class=\"data row0 col2\" >$3.35</td>\n",
       "                        <td id=\"T_78a49c46_09b7_11ea_b8e2_e4e74937379erow0_col3\" class=\"data row0 col3\" >$4.54</td>\n",
       "            </tr>\n",
       "            <tr>\n",
       "                        <th id=\"T_78a49c46_09b7_11ea_b8e2_e4e74937379elevel0_row1\" class=\"row_heading level0 row1\" >10-14</th>\n",
       "                        <td id=\"T_78a49c46_09b7_11ea_b8e2_e4e74937379erow1_col0\" class=\"data row1 col0\" >28</td>\n",
       "                        <td id=\"T_78a49c46_09b7_11ea_b8e2_e4e74937379erow1_col1\" class=\"data row1 col1\" >$82.78</td>\n",
       "                        <td id=\"T_78a49c46_09b7_11ea_b8e2_e4e74937379erow1_col2\" class=\"data row1 col2\" >$2.96</td>\n",
       "                        <td id=\"T_78a49c46_09b7_11ea_b8e2_e4e74937379erow1_col3\" class=\"data row1 col3\" >$3.76</td>\n",
       "            </tr>\n",
       "            <tr>\n",
       "                        <th id=\"T_78a49c46_09b7_11ea_b8e2_e4e74937379elevel0_row2\" class=\"row_heading level0 row2\" >15-19</th>\n",
       "                        <td id=\"T_78a49c46_09b7_11ea_b8e2_e4e74937379erow2_col0\" class=\"data row2 col0\" >136</td>\n",
       "                        <td id=\"T_78a49c46_09b7_11ea_b8e2_e4e74937379erow2_col1\" class=\"data row2 col1\" >$412.89</td>\n",
       "                        <td id=\"T_78a49c46_09b7_11ea_b8e2_e4e74937379erow2_col2\" class=\"data row2 col2\" >$3.04</td>\n",
       "                        <td id=\"T_78a49c46_09b7_11ea_b8e2_e4e74937379erow2_col3\" class=\"data row2 col3\" >$3.86</td>\n",
       "            </tr>\n",
       "            <tr>\n",
       "                        <th id=\"T_78a49c46_09b7_11ea_b8e2_e4e74937379elevel0_row3\" class=\"row_heading level0 row3\" >20-24</th>\n",
       "                        <td id=\"T_78a49c46_09b7_11ea_b8e2_e4e74937379erow3_col0\" class=\"data row3 col0\" >365</td>\n",
       "                        <td id=\"T_78a49c46_09b7_11ea_b8e2_e4e74937379erow3_col1\" class=\"data row3 col1\" >$1,114.06</td>\n",
       "                        <td id=\"T_78a49c46_09b7_11ea_b8e2_e4e74937379erow3_col2\" class=\"data row3 col2\" >$3.05</td>\n",
       "                        <td id=\"T_78a49c46_09b7_11ea_b8e2_e4e74937379erow3_col3\" class=\"data row3 col3\" >$4.32</td>\n",
       "            </tr>\n",
       "            <tr>\n",
       "                        <th id=\"T_78a49c46_09b7_11ea_b8e2_e4e74937379elevel0_row4\" class=\"row_heading level0 row4\" >25-29</th>\n",
       "                        <td id=\"T_78a49c46_09b7_11ea_b8e2_e4e74937379erow4_col0\" class=\"data row4 col0\" >101</td>\n",
       "                        <td id=\"T_78a49c46_09b7_11ea_b8e2_e4e74937379erow4_col1\" class=\"data row4 col1\" >$293.00</td>\n",
       "                        <td id=\"T_78a49c46_09b7_11ea_b8e2_e4e74937379erow4_col2\" class=\"data row4 col2\" >$2.90</td>\n",
       "                        <td id=\"T_78a49c46_09b7_11ea_b8e2_e4e74937379erow4_col3\" class=\"data row4 col3\" >$3.81</td>\n",
       "            </tr>\n",
       "            <tr>\n",
       "                        <th id=\"T_78a49c46_09b7_11ea_b8e2_e4e74937379elevel0_row5\" class=\"row_heading level0 row5\" >30-34</th>\n",
       "                        <td id=\"T_78a49c46_09b7_11ea_b8e2_e4e74937379erow5_col0\" class=\"data row5 col0\" >73</td>\n",
       "                        <td id=\"T_78a49c46_09b7_11ea_b8e2_e4e74937379erow5_col1\" class=\"data row5 col1\" >$214.00</td>\n",
       "                        <td id=\"T_78a49c46_09b7_11ea_b8e2_e4e74937379erow5_col2\" class=\"data row5 col2\" >$2.93</td>\n",
       "                        <td id=\"T_78a49c46_09b7_11ea_b8e2_e4e74937379erow5_col3\" class=\"data row5 col3\" >$4.12</td>\n",
       "            </tr>\n",
       "            <tr>\n",
       "                        <th id=\"T_78a49c46_09b7_11ea_b8e2_e4e74937379elevel0_row6\" class=\"row_heading level0 row6\" >35+</th>\n",
       "                        <td id=\"T_78a49c46_09b7_11ea_b8e2_e4e74937379erow6_col0\" class=\"data row6 col0\" >54</td>\n",
       "                        <td id=\"T_78a49c46_09b7_11ea_b8e2_e4e74937379erow6_col1\" class=\"data row6 col1\" >$185.91</td>\n",
       "                        <td id=\"T_78a49c46_09b7_11ea_b8e2_e4e74937379erow6_col2\" class=\"data row6 col2\" >$3.44</td>\n",
       "                        <td id=\"T_78a49c46_09b7_11ea_b8e2_e4e74937379erow6_col3\" class=\"data row6 col3\" >$4.32</td>\n",
       "            </tr>\n",
       "    </tbody></table>"
      ],
      "text/plain": [
       "<pandas.io.formats.style.Styler at 0x187e6e5c2b0>"
      ]
     },
     "execution_count": 43,
     "metadata": {},
     "output_type": "execute_result"
    }
   ],
   "source": [
    "age_purchases = age_df[\"Purchase ID\"].count()\n",
    "\n",
    "total_value = age_df[\"Price\"].sum()\n",
    "\n",
    "age_prices_avg = age_df[\"Price\"].mean()\n",
    "\n",
    "avg_ppp_age = total_value/all_ages\n",
    "\n",
    "other_age_df = pd.DataFrame({\n",
    "                                \"Purchases\": age_purchases,\n",
    "                                \"Total Purchase Value\": total_value,\n",
    "                                \"Avg Purchase Price\": age_prices_avg,\n",
    "                                \"Avg Purchase Total per Person\": avg_ppp_age})\n",
    "other_age_df.index.name = None\n",
    "\n",
    "other_age_df.style.format({\n",
    "                                \"Total Purchase Value\":\"${:,.2f}\",\n",
    "                                \"Avg Purchase Price\":\"${:,.2f}\",\n",
    "                                \"Avg Purchase Total per Person\":\"${:,.2f}\"})"
   ]
  },
  {
   "cell_type": "markdown",
   "metadata": {},
   "source": [
    "## Top Spenders"
   ]
  },
  {
   "cell_type": "markdown",
   "metadata": {},
   "source": [
    "* Run basic calculations to obtain the results in the table below\n",
    "\n",
    "\n",
    "* Create a summary data frame to hold the results\n",
    "\n",
    "\n",
    "* Sort the total purchase value column in descending order\n",
    "\n",
    "\n",
    "* Optional: give the displayed data cleaner formatting\n",
    "\n",
    "\n",
    "* Display a preview of the summary data frame\n",
    "\n"
   ]
  },
  {
   "cell_type": "code",
   "execution_count": 36,
   "metadata": {},
   "outputs": [
    {
     "data": {
      "text/html": [
       "<style  type=\"text/css\" >\n",
       "</style><table id=\"T_3bf395a2_09b6_11ea_82aa_e4e74937379e\" ><thead>    <tr>        <th class=\"blank level0\" ></th>        <th class=\"col_heading level0 col0\" >Purchases</th>        <th class=\"col_heading level0 col1\" >Total Purchase Value</th>        <th class=\"col_heading level0 col2\" >Avg Purchase Price</th>    </tr>    <tr>        <th class=\"index_name level0\" >SN</th>        <th class=\"blank\" ></th>        <th class=\"blank\" ></th>        <th class=\"blank\" ></th>    </tr></thead><tbody>\n",
       "                <tr>\n",
       "                        <th id=\"T_3bf395a2_09b6_11ea_82aa_e4e74937379elevel0_row0\" class=\"row_heading level0 row0\" >Lisosia93</th>\n",
       "                        <td id=\"T_3bf395a2_09b6_11ea_82aa_e4e74937379erow0_col0\" class=\"data row0 col0\" >5</td>\n",
       "                        <td id=\"T_3bf395a2_09b6_11ea_82aa_e4e74937379erow0_col1\" class=\"data row0 col1\" >$18.96</td>\n",
       "                        <td id=\"T_3bf395a2_09b6_11ea_82aa_e4e74937379erow0_col2\" class=\"data row0 col2\" >$3.79</td>\n",
       "            </tr>\n",
       "            <tr>\n",
       "                        <th id=\"T_3bf395a2_09b6_11ea_82aa_e4e74937379elevel0_row1\" class=\"row_heading level0 row1\" >Idastidru52</th>\n",
       "                        <td id=\"T_3bf395a2_09b6_11ea_82aa_e4e74937379erow1_col0\" class=\"data row1 col0\" >4</td>\n",
       "                        <td id=\"T_3bf395a2_09b6_11ea_82aa_e4e74937379erow1_col1\" class=\"data row1 col1\" >$15.45</td>\n",
       "                        <td id=\"T_3bf395a2_09b6_11ea_82aa_e4e74937379erow1_col2\" class=\"data row1 col2\" >$3.86</td>\n",
       "            </tr>\n",
       "            <tr>\n",
       "                        <th id=\"T_3bf395a2_09b6_11ea_82aa_e4e74937379elevel0_row2\" class=\"row_heading level0 row2\" >Chamjask73</th>\n",
       "                        <td id=\"T_3bf395a2_09b6_11ea_82aa_e4e74937379erow2_col0\" class=\"data row2 col0\" >3</td>\n",
       "                        <td id=\"T_3bf395a2_09b6_11ea_82aa_e4e74937379erow2_col1\" class=\"data row2 col1\" >$13.83</td>\n",
       "                        <td id=\"T_3bf395a2_09b6_11ea_82aa_e4e74937379erow2_col2\" class=\"data row2 col2\" >$4.61</td>\n",
       "            </tr>\n",
       "            <tr>\n",
       "                        <th id=\"T_3bf395a2_09b6_11ea_82aa_e4e74937379elevel0_row3\" class=\"row_heading level0 row3\" >Iral74</th>\n",
       "                        <td id=\"T_3bf395a2_09b6_11ea_82aa_e4e74937379erow3_col0\" class=\"data row3 col0\" >4</td>\n",
       "                        <td id=\"T_3bf395a2_09b6_11ea_82aa_e4e74937379erow3_col1\" class=\"data row3 col1\" >$13.62</td>\n",
       "                        <td id=\"T_3bf395a2_09b6_11ea_82aa_e4e74937379erow3_col2\" class=\"data row3 col2\" >$3.40</td>\n",
       "            </tr>\n",
       "            <tr>\n",
       "                        <th id=\"T_3bf395a2_09b6_11ea_82aa_e4e74937379elevel0_row4\" class=\"row_heading level0 row4\" >Iskadarya95</th>\n",
       "                        <td id=\"T_3bf395a2_09b6_11ea_82aa_e4e74937379erow4_col0\" class=\"data row4 col0\" >3</td>\n",
       "                        <td id=\"T_3bf395a2_09b6_11ea_82aa_e4e74937379erow4_col1\" class=\"data row4 col1\" >$13.10</td>\n",
       "                        <td id=\"T_3bf395a2_09b6_11ea_82aa_e4e74937379erow4_col2\" class=\"data row4 col2\" >$4.37</td>\n",
       "            </tr>\n",
       "    </tbody></table>"
      ],
      "text/plain": [
       "<pandas.io.formats.style.Styler at 0x187e69dd128>"
      ]
     },
     "execution_count": 36,
     "metadata": {},
     "output_type": "execute_result"
    }
   ],
   "source": [
    "spenders = data.groupby(\"SN\")\n",
    "\n",
    "spender_purchases = spenders[\"Purchase ID\"].count()\n",
    "\n",
    "num_purchases_spenders = spenders[\"Price\"].sum()\n",
    "\n",
    "spender_purchases_avg = spenders[\"Price\"].mean()\n",
    "\n",
    "whales = pd.DataFrame({\n",
    "                            \"Purchases\": spender_purchases,\n",
    "                            \"Total Purchase Value\": num_purchases_spenders,\n",
    "                            \"Avg Purchase Price\": spender_purchases_avg})\n",
    "\n",
    "whales_adj = whales.sort_values([\"Total Purchase Value\"], ascending=False).head()\n",
    "\n",
    "whales_adj.style.format({\n",
    "                                \"Total Purchase Value\":\"${:,.2f}\",\n",
    "                                \"Avg Purchase Price\":\"${:,.2f}\"})"
   ]
  },
  {
   "cell_type": "markdown",
   "metadata": {},
   "source": [
    "## Most Popular Items"
   ]
  },
  {
   "cell_type": "markdown",
   "metadata": {},
   "source": [
    "* Retrieve the Item ID, Item Name, and Item Price columns\n",
    "\n",
    "\n",
    "* Group by Item ID and Item Name. Perform calculations to obtain purchase count, item price, and total purchase value\n",
    "\n",
    "\n",
    "* Create a summary data frame to hold the results\n",
    "\n",
    "\n",
    "* Sort the purchase count column in descending order\n",
    "\n",
    "\n",
    "* Optional: give the displayed data cleaner formatting\n",
    "\n",
    "\n",
    "* Display a preview of the summary data frame\n",
    "\n"
   ]
  },
  {
   "cell_type": "code",
   "execution_count": 38,
   "metadata": {},
   "outputs": [
    {
     "data": {
      "text/html": [
       "<style  type=\"text/css\" >\n",
       "</style><table id=\"T_ba480e98_09b6_11ea_b9a6_e4e74937379e\" ><thead>    <tr>        <th class=\"blank\" ></th>        <th class=\"blank level0\" ></th>        <th class=\"col_heading level0 col0\" >Item Price</th>        <th class=\"col_heading level0 col1\" >Total Purchase Value</th>        <th class=\"col_heading level0 col2\" >Purchase Count</th>    </tr>    <tr>        <th class=\"index_name level0\" >Item ID</th>        <th class=\"index_name level1\" >Item Name</th>        <th class=\"blank\" ></th>        <th class=\"blank\" ></th>        <th class=\"blank\" ></th>    </tr></thead><tbody>\n",
       "                <tr>\n",
       "                        <th id=\"T_ba480e98_09b6_11ea_b9a6_e4e74937379elevel0_row0\" class=\"row_heading level0 row0\" >178</th>\n",
       "                        <th id=\"T_ba480e98_09b6_11ea_b9a6_e4e74937379elevel1_row0\" class=\"row_heading level1 row0\" >Oathbreaker, Last Hope of the Breaking Storm</th>\n",
       "                        <td id=\"T_ba480e98_09b6_11ea_b9a6_e4e74937379erow0_col0\" class=\"data row0 col0\" >$4.23</td>\n",
       "                        <td id=\"T_ba480e98_09b6_11ea_b9a6_e4e74937379erow0_col1\" class=\"data row0 col1\" >$50.76</td>\n",
       "                        <td id=\"T_ba480e98_09b6_11ea_b9a6_e4e74937379erow0_col2\" class=\"data row0 col2\" >12</td>\n",
       "            </tr>\n",
       "            <tr>\n",
       "                        <th id=\"T_ba480e98_09b6_11ea_b9a6_e4e74937379elevel0_row1\" class=\"row_heading level0 row1\" >145</th>\n",
       "                        <th id=\"T_ba480e98_09b6_11ea_b9a6_e4e74937379elevel1_row1\" class=\"row_heading level1 row1\" >Fiery Glass Crusader</th>\n",
       "                        <td id=\"T_ba480e98_09b6_11ea_b9a6_e4e74937379erow1_col0\" class=\"data row1 col0\" >$4.58</td>\n",
       "                        <td id=\"T_ba480e98_09b6_11ea_b9a6_e4e74937379erow1_col1\" class=\"data row1 col1\" >$41.22</td>\n",
       "                        <td id=\"T_ba480e98_09b6_11ea_b9a6_e4e74937379erow1_col2\" class=\"data row1 col2\" >9</td>\n",
       "            </tr>\n",
       "            <tr>\n",
       "                        <th id=\"T_ba480e98_09b6_11ea_b9a6_e4e74937379elevel0_row2\" class=\"row_heading level0 row2\" >108</th>\n",
       "                        <th id=\"T_ba480e98_09b6_11ea_b9a6_e4e74937379elevel1_row2\" class=\"row_heading level1 row2\" >Extraction, Quickblade Of Trembling Hands</th>\n",
       "                        <td id=\"T_ba480e98_09b6_11ea_b9a6_e4e74937379erow2_col0\" class=\"data row2 col0\" >$3.53</td>\n",
       "                        <td id=\"T_ba480e98_09b6_11ea_b9a6_e4e74937379erow2_col1\" class=\"data row2 col1\" >$31.77</td>\n",
       "                        <td id=\"T_ba480e98_09b6_11ea_b9a6_e4e74937379erow2_col2\" class=\"data row2 col2\" >9</td>\n",
       "            </tr>\n",
       "            <tr>\n",
       "                        <th id=\"T_ba480e98_09b6_11ea_b9a6_e4e74937379elevel0_row3\" class=\"row_heading level0 row3\" >82</th>\n",
       "                        <th id=\"T_ba480e98_09b6_11ea_b9a6_e4e74937379elevel1_row3\" class=\"row_heading level1 row3\" >Nirvana</th>\n",
       "                        <td id=\"T_ba480e98_09b6_11ea_b9a6_e4e74937379erow3_col0\" class=\"data row3 col0\" >$4.90</td>\n",
       "                        <td id=\"T_ba480e98_09b6_11ea_b9a6_e4e74937379erow3_col1\" class=\"data row3 col1\" >$44.10</td>\n",
       "                        <td id=\"T_ba480e98_09b6_11ea_b9a6_e4e74937379erow3_col2\" class=\"data row3 col2\" >9</td>\n",
       "            </tr>\n",
       "            <tr>\n",
       "                        <th id=\"T_ba480e98_09b6_11ea_b9a6_e4e74937379elevel0_row4\" class=\"row_heading level0 row4\" >19</th>\n",
       "                        <th id=\"T_ba480e98_09b6_11ea_b9a6_e4e74937379elevel1_row4\" class=\"row_heading level1 row4\" >Pursuit, Cudgel of Necromancy</th>\n",
       "                        <td id=\"T_ba480e98_09b6_11ea_b9a6_e4e74937379erow4_col0\" class=\"data row4 col0\" >$1.02</td>\n",
       "                        <td id=\"T_ba480e98_09b6_11ea_b9a6_e4e74937379erow4_col1\" class=\"data row4 col1\" >$8.16</td>\n",
       "                        <td id=\"T_ba480e98_09b6_11ea_b9a6_e4e74937379erow4_col2\" class=\"data row4 col2\" >8</td>\n",
       "            </tr>\n",
       "    </tbody></table>"
      ],
      "text/plain": [
       "<pandas.io.formats.style.Styler at 0x187e61fc6d8>"
      ]
     },
     "execution_count": 38,
     "metadata": {},
     "output_type": "execute_result"
    }
   ],
   "source": [
    "items = data[[\"Item ID\", \"Item Name\", \"Price\"]]\n",
    "\n",
    "items_group = items.groupby([\"Item ID\",\"Item Name\"])\n",
    "\n",
    "item_purchases = items_group[\"Price\"].count()\n",
    "\n",
    "value = (items_group[\"Price\"].sum()) \n",
    "\n",
    "item_price = value/item_purchases\n",
    "\n",
    "pop_items = pd.DataFrame({\n",
    "                                \"Item Price\": item_price,\n",
    "                                \"Total Purchase Value\":value,\n",
    "                                \"Purchase Count\": item_purchases})\n",
    "\n",
    "new_pop_items = pop_items.sort_values([\"Purchase Count\"], ascending=False).head()\n",
    "\n",
    "new_pop_items.style.format({\n",
    "                                \"Item Price\":\"${:,.2f}\",\n",
    "                                \"Total Purchase Value\":\"${:,.2f}\"})"
   ]
  },
  {
   "cell_type": "markdown",
   "metadata": {},
   "source": [
    "## Most Profitable Items"
   ]
  },
  {
   "cell_type": "markdown",
   "metadata": {},
   "source": [
    "* Sort the above table by total purchase value in descending order\n",
    "\n",
    "\n",
    "* Optional: give the displayed data cleaner formatting\n",
    "\n",
    "\n",
    "* Display a preview of the data frame\n",
    "\n"
   ]
  },
  {
   "cell_type": "code",
   "execution_count": 39,
   "metadata": {
    "scrolled": true
   },
   "outputs": [
    {
     "data": {
      "text/html": [
       "<style  type=\"text/css\" >\n",
       "</style><table id=\"T_e69b0be8_09b6_11ea_9b13_e4e74937379e\" ><thead>    <tr>        <th class=\"blank\" ></th>        <th class=\"blank level0\" ></th>        <th class=\"col_heading level0 col0\" >Item Price</th>        <th class=\"col_heading level0 col1\" >Total Purchase Value</th>        <th class=\"col_heading level0 col2\" >Purchase Count</th>    </tr>    <tr>        <th class=\"index_name level0\" >Item ID</th>        <th class=\"index_name level1\" >Item Name</th>        <th class=\"blank\" ></th>        <th class=\"blank\" ></th>        <th class=\"blank\" ></th>    </tr></thead><tbody>\n",
       "                <tr>\n",
       "                        <th id=\"T_e69b0be8_09b6_11ea_9b13_e4e74937379elevel0_row0\" class=\"row_heading level0 row0\" >178</th>\n",
       "                        <th id=\"T_e69b0be8_09b6_11ea_9b13_e4e74937379elevel1_row0\" class=\"row_heading level1 row0\" >Oathbreaker, Last Hope of the Breaking Storm</th>\n",
       "                        <td id=\"T_e69b0be8_09b6_11ea_9b13_e4e74937379erow0_col0\" class=\"data row0 col0\" >$4.23</td>\n",
       "                        <td id=\"T_e69b0be8_09b6_11ea_9b13_e4e74937379erow0_col1\" class=\"data row0 col1\" >$50.76</td>\n",
       "                        <td id=\"T_e69b0be8_09b6_11ea_9b13_e4e74937379erow0_col2\" class=\"data row0 col2\" >12</td>\n",
       "            </tr>\n",
       "            <tr>\n",
       "                        <th id=\"T_e69b0be8_09b6_11ea_9b13_e4e74937379elevel0_row1\" class=\"row_heading level0 row1\" >82</th>\n",
       "                        <th id=\"T_e69b0be8_09b6_11ea_9b13_e4e74937379elevel1_row1\" class=\"row_heading level1 row1\" >Nirvana</th>\n",
       "                        <td id=\"T_e69b0be8_09b6_11ea_9b13_e4e74937379erow1_col0\" class=\"data row1 col0\" >$4.90</td>\n",
       "                        <td id=\"T_e69b0be8_09b6_11ea_9b13_e4e74937379erow1_col1\" class=\"data row1 col1\" >$44.10</td>\n",
       "                        <td id=\"T_e69b0be8_09b6_11ea_9b13_e4e74937379erow1_col2\" class=\"data row1 col2\" >9</td>\n",
       "            </tr>\n",
       "            <tr>\n",
       "                        <th id=\"T_e69b0be8_09b6_11ea_9b13_e4e74937379elevel0_row2\" class=\"row_heading level0 row2\" >145</th>\n",
       "                        <th id=\"T_e69b0be8_09b6_11ea_9b13_e4e74937379elevel1_row2\" class=\"row_heading level1 row2\" >Fiery Glass Crusader</th>\n",
       "                        <td id=\"T_e69b0be8_09b6_11ea_9b13_e4e74937379erow2_col0\" class=\"data row2 col0\" >$4.58</td>\n",
       "                        <td id=\"T_e69b0be8_09b6_11ea_9b13_e4e74937379erow2_col1\" class=\"data row2 col1\" >$41.22</td>\n",
       "                        <td id=\"T_e69b0be8_09b6_11ea_9b13_e4e74937379erow2_col2\" class=\"data row2 col2\" >9</td>\n",
       "            </tr>\n",
       "            <tr>\n",
       "                        <th id=\"T_e69b0be8_09b6_11ea_9b13_e4e74937379elevel0_row3\" class=\"row_heading level0 row3\" >92</th>\n",
       "                        <th id=\"T_e69b0be8_09b6_11ea_9b13_e4e74937379elevel1_row3\" class=\"row_heading level1 row3\" >Final Critic</th>\n",
       "                        <td id=\"T_e69b0be8_09b6_11ea_9b13_e4e74937379erow3_col0\" class=\"data row3 col0\" >$4.88</td>\n",
       "                        <td id=\"T_e69b0be8_09b6_11ea_9b13_e4e74937379erow3_col1\" class=\"data row3 col1\" >$39.04</td>\n",
       "                        <td id=\"T_e69b0be8_09b6_11ea_9b13_e4e74937379erow3_col2\" class=\"data row3 col2\" >8</td>\n",
       "            </tr>\n",
       "            <tr>\n",
       "                        <th id=\"T_e69b0be8_09b6_11ea_9b13_e4e74937379elevel0_row4\" class=\"row_heading level0 row4\" >103</th>\n",
       "                        <th id=\"T_e69b0be8_09b6_11ea_9b13_e4e74937379elevel1_row4\" class=\"row_heading level1 row4\" >Singed Scalpel</th>\n",
       "                        <td id=\"T_e69b0be8_09b6_11ea_9b13_e4e74937379erow4_col0\" class=\"data row4 col0\" >$4.35</td>\n",
       "                        <td id=\"T_e69b0be8_09b6_11ea_9b13_e4e74937379erow4_col1\" class=\"data row4 col1\" >$34.80</td>\n",
       "                        <td id=\"T_e69b0be8_09b6_11ea_9b13_e4e74937379erow4_col2\" class=\"data row4 col2\" >8</td>\n",
       "            </tr>\n",
       "    </tbody></table>"
      ],
      "text/plain": [
       "<pandas.io.formats.style.Styler at 0x187e600e4a8>"
      ]
     },
     "execution_count": 39,
     "metadata": {},
     "output_type": "execute_result"
    }
   ],
   "source": [
    "newer_pop = pop_items.sort_values([\"Total Purchase Value\"], ascending=False).head()\n",
    "\n",
    "newer_pop.style.format({\n",
    "                                \"Item Price\":\"${:,.2f}\",\n",
    "                                \"Total Purchase Value\":\"${:,.2f}\"})"
   ]
  },
  {
   "cell_type": "code",
   "execution_count": null,
   "metadata": {},
   "outputs": [],
   "source": []
  },
  {
   "cell_type": "code",
   "execution_count": null,
   "metadata": {},
   "outputs": [],
   "source": []
  }
 ],
 "metadata": {
  "anaconda-cloud": {},
  "kernel_info": {
   "name": "python3"
  },
  "kernelspec": {
   "display_name": "Python 3",
   "language": "python",
   "name": "python3"
  },
  "language_info": {
   "codemirror_mode": {
    "name": "ipython",
    "version": 3
   },
   "file_extension": ".py",
   "mimetype": "text/x-python",
   "name": "python",
   "nbconvert_exporter": "python",
   "pygments_lexer": "ipython3",
   "version": "3.7.3"
  },
  "latex_envs": {
   "LaTeX_envs_menu_present": true,
   "autoclose": false,
   "autocomplete": true,
   "bibliofile": "biblio.bib",
   "cite_by": "apalike",
   "current_citInitial": 1,
   "eqLabelWithNumbers": true,
   "eqNumInitial": 1,
   "hotkeys": {
    "equation": "Ctrl-E",
    "itemize": "Ctrl-I"
   },
   "labels_anchors": false,
   "latex_user_defs": false,
   "report_style_numbering": false,
   "user_envs_cfg": false
  },
  "nteract": {
   "version": "0.2.0"
  }
 },
 "nbformat": 4,
 "nbformat_minor": 2
}
